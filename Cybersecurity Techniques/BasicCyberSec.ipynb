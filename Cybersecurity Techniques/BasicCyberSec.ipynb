{
 "cells": [
  {
   "cell_type": "markdown",
   "metadata": {},
   "source": [
    "# PYTHON EXAMPLES\n",
    "\n"
   ]
  },
  {
   "cell_type": "markdown",
   "metadata": {},
   "source": [
    "This script demonstrates basic encryption and decryption using the AES (Advanced Encryption Standard) algorithm in Python.\n",
    "It includes functions to pad the encryption key, save and load the key from a file, and encrypt and decrypt messages.\n",
    "\n",
    "Functions:\n",
    "\n",
    "- `pad_key(key)`: Ensures the encryption key is 32 bytes long by padding or truncating it.\n",
    "- `save_key_to_file(key, filename)`: Saves the encryption key to a file securely.\n",
    "- `load_key_from_file(filename)`: Loads the encryption key from a file.\n",
    "- `encrypt(key, plaintext)`: Encrypts the plaintext message using AES encryption with CFB mode.\n",
    "- `decrypt(key, encrypted_data)`: Decrypts the encrypted data using AES decryption with CFB mode.\n",
    "\n",
    "The script also includes a test section that demonstrates how to use these functions to encrypt and decrypt a message."
   ]
  },
  {
   "cell_type": "code",
   "execution_count": 1,
   "metadata": {},
   "outputs": [
    {
     "name": "stdout",
     "output_type": "stream",
     "text": [
      "Encrypted: CKCHcHRF3Wk8twOD9H7Rn4JziJu/kdxLZFFngYs+ny7aAPDnOcPOAAY4Iksf8KY9\n",
      "Decrypted: Confidential Data: API_KEY=12345\n"
     ]
    }
   ],
   "source": [
    "from Crypto.Cipher import AES\n",
    "from Crypto.Random import get_random_bytes\n",
    "import base64\n",
    "\n",
    "def pad_key(key):\n",
    "    \"\"\"Ensure the key is 32 bytes long.\"\"\"\n",
    "    normalized_key = key.ljust(32)[:32].encode()\n",
    "    return normalized_key\n",
    "\n",
    "def save_key_to_file(key, filename):\n",
    "    \"\"\"Save encryption key to a file securely.\"\"\"\n",
    "    with open(filename, \"wb\") as f:\n",
    "        f.write(key)\n",
    "\n",
    "def load_key_from_file(filename):\n",
    "    \"\"\"Load encryption key from a file.\"\"\"\n",
    "    with open(filename, \"rb\") as f:\n",
    "        return f.read()\n",
    "\n",
    "def encrypt(key, plaintext):\n",
    "    \"\"\"Encrypt the plaintext using AES encryption.\"\"\"\n",
    "    key = pad_key(key)\n",
    "    iv = get_random_bytes(16)\n",
    "    cipher = AES.new(key, AES.MODE_CFB, iv)\n",
    "    ciphertext = cipher.encrypt(plaintext.encode())\n",
    "    return base64.b64encode(iv + ciphertext).decode()\n",
    "\n",
    "def decrypt(key, encrypted_data):\n",
    "    \"\"\"Decrypt the encrypted data using AES decryption.\"\"\"\n",
    "    key = pad_key(key)\n",
    "    decoded = base64.b64decode(encrypted_data)\n",
    "    iv, ciphertext = decoded[:16], decoded[16:]\n",
    "    cipher = AES.new(key, AES.MODE_CFB, iv)\n",
    "    return cipher.decrypt(ciphertext).decode()\n",
    "\n",
    "# Test the functions\n",
    "key = \"SuperSecretKey\"\n",
    "\n",
    "# Save the key to a file\n",
    "save_key_to_file(pad_key(key), \"my_key.key\")\n",
    "\n",
    "# Encrypt a message\n",
    "message = \"Confidential Data: API_KEY=12345\"\n",
    "encrypted_message = encrypt(key, message)\n",
    "print(f\"Encrypted: {encrypted_message}\")\n",
    "\n",
    "# Load the key from the file\n",
    "loaded_key = load_key_from_file(\"my_key.key\")\n",
    "\n",
    "# Decrypt the message\n",
    "decrypted_message = decrypt(loaded_key.decode(), encrypted_message)\n",
    "print(f\"Decrypted: {decrypted_message}\")\n"
   ]
  },
  {
   "cell_type": "code",
   "execution_count": 2,
   "metadata": {},
   "outputs": [
    {
     "name": "stdout",
     "output_type": "stream",
     "text": [
      "Encrypted: S/oi/nTSPujF3GtvOFolgNjzF0Cv6+dAbrWD4+64YsajpVQSpzZjL7RI/9sMHlvQ\n",
      "Decrypted: Confidential Data: API_KEY=12345\n",
      "32\n",
      "64\n",
      "Encrypted: +H+tNy/MrNcDkxnhePTQCiiKZ6XcO8/CUituYVMhxHYnpOu0YF8BtbzbeQ4bWA==\n",
      "Decrypted: Another Secret: PASSWORD=12345\n",
      "30\n",
      "64\n",
      "Encrypted: pN1GIwnspmfbeavEkK38xYEyEH4Ml//8MXx4dZd/OsR9OdYEWp34P2HJ6gLmn6JR\n",
      "Decrypted: Confidential Data: API_KEY=12345\n",
      "32\n",
      "64\n"
     ]
    }
   ],
   "source": [
    "key = \"SuperSecretKey\"\n",
    "\n",
    "# Encrypt the original message and print the encrypted message\n",
    "encrypted_message = encrypt(key, message)\n",
    "print(f\"Encrypted: {encrypted_message}\")\n",
    "\n",
    "# Decrypt the encrypted message and print the decrypted message\n",
    "decrypted_message = decrypt(key, encrypted_message)\n",
    "print(f\"Decrypted: {decrypted_message}\")\n",
    "\n",
    "# Print the length of the original message and the encrypted message\n",
    "print(len(message))\n",
    "print(len(encrypted_message))\n",
    "\n",
    "# Test with a different message\n",
    "message2 = \"Another Secret: PASSWORD=12345\"\n",
    "\n",
    "# Encrypt the new message and print the encrypted message\n",
    "encrypted_message = encrypt(key, message2)\n",
    "print(f\"Encrypted: {encrypted_message}\")\n",
    "\n",
    "# Decrypt the encrypted message and print the decrypted message\n",
    "decrypted_message = decrypt(key, encrypted_message)\n",
    "print(f\"Decrypted: {decrypted_message}\")\n",
    "\n",
    "# Print the length of the new message and the encrypted message\n",
    "print(len(message2))\n",
    "print(len(encrypted_message))\n",
    "\n",
    "# Test with a different key\n",
    "key2 = \"DifferentKey\"\n",
    "\n",
    "# Encrypt the original message with the new key and print the encrypted message\n",
    "encrypted_message = encrypt(key2, message)\n",
    "print(f\"Encrypted: {encrypted_message}\")\n",
    "\n",
    "# Decrypt the encrypted message with the new key and print the decrypted message\n",
    "decrypted_message = decrypt(key2, encrypted_message)\n",
    "print(f\"Decrypted: {decrypted_message}\")\n",
    "\n",
    "# Print the length of the original message and the encrypted message\n",
    "print(len(message))\n",
    "print(len(encrypted_message))"
   ]
  },
  {
   "cell_type": "code",
   "execution_count": 3,
   "metadata": {},
   "outputs": [
    {
     "name": "stdout",
     "output_type": "stream",
     "text": [
      "Encrypted Long Message: DQDT/ixcx7xSjwfBkittQqvYg8JrCONsmeFvNAnPy46LU3ak9qPkB12RofVU4UGXpa8kfchWQU70eAM6mN/EfZ+Ysqtgjm9FQpkXi34VciV5wQ5DNWFmti2YflzN15E8Kn923TyZgRRDeH02PAHPMuyQrnPq/BecAjFyf3mkUDQpXvI2ghGYrItf/5JR2CHU\n",
      "Decrypted Long Message: This is a much longer message that we want to encrypt to test the AESCipher class. It contains multiple sentences and more data.\n",
      "128\n",
      "192\n"
     ]
    }
   ],
   "source": [
    "# Try encrypting a longer message\n",
    "long_message = \"This is a much longer message that we want to encrypt to test the AESCipher class. It contains multiple sentences and more data.\"\n",
    "\n",
    "# Encrypt the longer message\n",
    "encrypted_long_message = encrypt(key, long_message)\n",
    "\n",
    "# Print the encrypted long message\n",
    "print(f\"Encrypted Long Message: {encrypted_long_message}\")\n",
    "\n",
    "# Decrypt the encrypted long message and print it\n",
    "print(f\"Decrypted Long Message: {decrypt(key, encrypted_long_message)}\")\n",
    "\n",
    "# Print the length of the original long message\n",
    "print(len(long_message))\n",
    "\n",
    "# Print the length of the encrypted long message\n",
    "print(len(encrypted_long_message))"
   ]
  },
  {
   "cell_type": "code",
   "execution_count": 4,
   "metadata": {},
   "outputs": [
    {
     "name": "stdout",
     "output_type": "stream",
     "text": [
      "Trying key: WeakKey ... Failed.\n",
      "Trying key: SuperSecretKey ... Failed.\n",
      "Trying key: AnotherKey123 ... Failed.\n"
     ]
    }
   ],
   "source": [
    "def brute_force_attack(encrypted_message, key_list):\n",
    "    \"\"\" Attempts to decrypt AES-encrypted data using a list of keys. \"\"\"\n",
    "    for key in key_list:\n",
    "        try:\n",
    "            # Attempt to decrypt the message\n",
    "            decrypted_message = decrypt(key, encrypted_message)\n",
    "            # If decryption is successful, print the key and decrypted message\n",
    "            print(f\"Success! Decryption key: {key}\")\n",
    "            print(f\"Decrypted Message: {decrypted_message}\")\n",
    "            return\n",
    "        except:\n",
    "            # If decryption fails, print the key and continue to the next key\n",
    "            print(f\"Trying key: {key} ... Failed.\")\n",
    "\n",
    "# Objective: Test the brute force attack function with a list of possible keys\n",
    "# to see if any of them can successfully decrypt the encrypted message.\n",
    "possible_keys = [\"WeakKey\", \"SuperSecretKey\", \"AnotherKey123\"]\n",
    "brute_force_attack(encrypted_message, possible_keys)"
   ]
  },
  {
   "cell_type": "code",
   "execution_count": null,
   "metadata": {},
   "outputs": [],
   "source": []
  }
 ],
 "metadata": {
  "kernelspec": {
   "display_name": "base",
   "language": "python",
   "name": "python3"
  },
  "language_info": {
   "codemirror_mode": {
    "name": "ipython",
    "version": 3
   },
   "file_extension": ".py",
   "mimetype": "text/x-python",
   "name": "python",
   "nbconvert_exporter": "python",
   "pygments_lexer": "ipython3",
   "version": "3.9.7"
  }
 },
 "nbformat": 4,
 "nbformat_minor": 2
}
